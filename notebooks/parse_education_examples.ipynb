{
 "cells": [
  {
   "cell_type": "code",
   "execution_count": 3,
   "metadata": {},
   "outputs": [],
   "source": [
    "import re\n",
    "import dateparser"
   ]
  },
  {
   "cell_type": "code",
   "execution_count": 21,
   "metadata": {},
   "outputs": [],
   "source": [
    "# TODO:\n",
    "# - test for different date patterns and update patterns if needed\n",
    "# - weiterbildung\n"
   ]
  },
  {
   "cell_type": "code",
   "execution_count": 6,
   "metadata": {},
   "outputs": [],
   "source": [
    "date_patterns = [\n",
    "    re.compile(r'^\\s*\\b(\\d{4})\\b\\s*[-–]?\\s*(heute|JETZT|Jetzt|jetzt)', re.IGNORECASE),\n",
    "    re.compile(r'\\b(\\d{4})\\b\\s*[-–]?\\s*(bis\\s*)?(heute|JETZT|Jetzt|jetzt)', re.IGNORECASE),\n",
    "    re.compile(r'\\b(\\d{4})\\s*[-–]\\s*(\\d{4})\\b'),\n",
    "    re.compile(r'^\\s*[\\w\\-.]*\\s*(\\d{4})\\s*[-–]\\s*(\\d{4})\\b'),  \n",
    "    re.compile(r'\\b(\\d{2}/\\d{4})\\s*[-–]\\s*(\\d{2}/\\d{4})|\\b(\\d{2}/\\d{4})\\s*[-–]?\\s*(heute|JETZT|Jetzt|jetzt)', re.IGNORECASE),\n",
    "    re.compile(r'^\\s*seit\\s*(\\d{2}/\\d{4})\\s*bis\\s*(dato|JETZT|Jetzt|jetzt|heute)', re.IGNORECASE),\n",
    "    re.compile(r'^\\s*(\\b(?:Jan(?:uar)?|Feb(?:ruar)?|Mär(?:z)?|Apr(?:il)?|Mai|Jun(?:i)?|Jul(?:i)?|Aug(?:ust)?|Sep(?:tember)?|Okt(?:ober)|Nov(?:ember)|Dez(?:ember)?)\\.?\\s(\\d{4}))\\s*[-–]?\\s*(heute|JETZT|Jetzt|jetzt|\\b(?:Jan(?:uar)?|Feb(?:ruar)?|Mär(?:z)?|Apr(?:il)?|Mai|Jun(?:i)?|Jul(?:i)?|Aug(?:ust)?|Sep(?:tember)?|Okt(?:ober)|Nov(?:ember)|Dez(?:ember)?\\.?\\s(\\d{4}))?)', re.IGNORECASE),\n",
    "    re.compile(r'(?:(?:(?:\\b\\w{3,9}\\s\\d{4}\\b)|(?:\\b\\d{1,2}/\\d{4}\\b)|(?:\\b\\d{4}\\b))(?:\\s*[-–]?\\s*(?:(?:\\b\\w{3,9}\\s\\d{4}\\b)|(?:\\b\\d{1,2}/\\d{4}\\b)|(?:\\b\\d{4}\\b)))?)')\n",
    "]\n"
   ]
  },
  {
   "cell_type": "code",
   "execution_count": 7,
   "metadata": {},
   "outputs": [],
   "source": [
    "def normalize_date(date_text, pattern):\n",
    "    date_text = date_text.lower().strip()\n",
    "    precision = 'unknown'\n",
    "\n",
    "    # \"Jahr – bis heute\" (e.g., \"2020 - heute\")\n",
    "    if pattern == date_patterns[0]:\n",
    "        year_match = re.search(r'\\b\\d{4}\\b', date_text)\n",
    "        if year_match:\n",
    "            year = year_match.group()\n",
    "            precision = 'year'\n",
    "            return {\"date\": f\"{year} - Heute\", \"precision\": precision}\n",
    "\n",
    "    # \"Jahr – bis heute\" mit \"bis\" (e.g., \"2020 - bis heute\")\n",
    "    elif pattern == date_patterns[1]:\n",
    "        year_match = re.search(r'\\b\\d{4}\\b', date_text)\n",
    "        if year_match:\n",
    "            year = year_match.group()\n",
    "            precision = 'year'\n",
    "            return {\"date\": f\"{year} - Heute\", \"precision\": precision}\n",
    "\n",
    "    # \"Jahr zu Jahr\" (e.g., \"2004 - 2008\")\n",
    "    elif pattern in [date_patterns[2], date_patterns[3]]:\n",
    "        years = re.findall(r'\\d{4}', date_text)\n",
    "        if len(years) == 2:\n",
    "            precision = 'year'\n",
    "            return {\"date\": f\"{years[0]} - {years[1]}\", \"precision\": precision}\n",
    "\n",
    "    # \"Monat/Jahr – Monat/Jahr\" (e.g., \"03/2018 – 07/2018\")\n",
    "    elif pattern == date_patterns[4]:\n",
    "        try:\n",
    "            start, end = date_text.split(\"–\")\n",
    "            start_obj = dateparser.parse(start.strip())\n",
    "            end_obj = dateparser.parse(end.strip()) if \"heute\" not in end.strip().lower() else None\n",
    "            \n",
    "            if start_obj:\n",
    "                start_formatted = start_obj.strftime('%m.%Y') if start_obj.day == 1 else start_obj.strftime('%d.%m.%Y')\n",
    "                precision = 'month' if start_obj.day == 1 else 'day'\n",
    "            else:\n",
    "                return {\"date\": \"Invalid date format\", \"precision\": precision}\n",
    "\n",
    "            if end_obj:\n",
    "                end_formatted = end_obj.strftime('%m.%Y') if end_obj.day == 1 else end_obj.strftime('%d.%m.%Y')\n",
    "            else:\n",
    "                end_formatted = \"Heute\"\n",
    "                \n",
    "            return {\"date\": f\"{start_formatted} - {end_formatted}\", \"precision\": precision}\n",
    "\n",
    "        except (ValueError, AttributeError):\n",
    "            return {\"date\": \"Invalid date format\", \"precision\": precision}\n",
    "\n",
    "    # TODO: add for more formats ..\n",
    "\n",
    "    return {\"date\": date_text, \"precision\": precision}"
   ]
  },
  {
   "cell_type": "code",
   "execution_count": 8,
   "metadata": {},
   "outputs": [],
   "source": [
    "def check_date_position(line, normalize = True):\n",
    "    date_found = False\n",
    "    date_position = 'none'\n",
    "    date_text = \"\"\n",
    "\n",
    "    for pattern in date_patterns:\n",
    "        date_match = pattern.search(line)\n",
    "        if date_match:\n",
    "            date_text = date_match.group(0).strip()\n",
    "            date_found = True\n",
    "        \n",
    "            if normalize:\n",
    "                date_text = normalize_date(date_text, pattern)[\"date\"]\n",
    "            \n",
    "            stripped_line = line.strip()\n",
    "\n",
    "            if stripped_line.startswith(date_text):\n",
    "                date_position = 'start'\n",
    "            elif stripped_line.endswith(date_text):\n",
    "                date_position = 'end'\n",
    "            else:\n",
    "                date_position = 'middle'\n",
    "\n",
    "            break\n",
    "\n",
    "    return {\n",
    "        \"date_found\": date_found,\n",
    "        \"position\": date_position,\n",
    "        \"date_text\": date_text\n",
    "    }\n"
   ]
  },
  {
   "cell_type": "code",
   "execution_count": 9,
   "metadata": {},
   "outputs": [],
   "source": [
    "def handle_start_date(current_point, date, description, structured_points):\n",
    "    if current_point:\n",
    "        structured_points.append(current_point)\n",
    "\n",
    "    current_point = {\"date\": date, \"description\": description.strip()}\n",
    "    return current_point"
   ]
  },
  {
   "cell_type": "code",
   "execution_count": 10,
   "metadata": {},
   "outputs": [],
   "source": [
    "def handle_end_date(current_point, date, description, structured_points):\n",
    "    if current_point:\n",
    "        current_point[\"description\"] += \" \" + description.strip()\n",
    "        structured_points.append(current_point)\n",
    "\n",
    "    current_point = {\"date\": date, \"description\": description.strip()}\n",
    "    return current_point"
   ]
  },
  {
   "cell_type": "code",
   "execution_count": 11,
   "metadata": {},
   "outputs": [],
   "source": [
    "def handle_middle_date(current_point, description):\n",
    "    # TODO\n",
    "    if current_point:\n",
    "        current_point[\"description\"] += \" \" + description\n",
    "    return current_point"
   ]
  },
  {
   "cell_type": "code",
   "execution_count": null,
   "metadata": {},
   "outputs": [],
   "source": [
    "def get_education(text):\n",
    "    education_points = text.splitlines()\n",
    "    structured_points = []\n",
    "    current_point = None\n",
    "\n",
    "    for line in education_points:\n",
    "        # TODO: doesn't work with normalize here\n",
    "        result = check_date_position(line, False)\n",
    "\n",
    "        if result['date_found']:\n",
    "            date = result['date_text']\n",
    "            description = line.replace(date, '').strip()\n",
    "\n",
    "            if result['position'] == 'start':\n",
    "                current_point = handle_start_date(current_point, date, description, structured_points)\n",
    "\n",
    "            elif result['position'] == 'end':\n",
    "                current_point = handle_end_date(current_point, date, description, structured_points)\n",
    "\n",
    "            elif result['position'] == 'middle':\n",
    "                current_point = handle_middle_date(current_point, description)\n",
    "\n",
    "        else:\n",
    "            if current_point:\n",
    "                current_point[\"description\"] += \" \" + line.strip()\n",
    "\n",
    "    if current_point:\n",
    "        structured_points.append(current_point)\n",
    "\n",
    "    return structured_points"
   ]
  },
  {
   "cell_type": "code",
   "execution_count": null,
   "metadata": {},
   "outputs": [
    {
     "name": "stdout",
     "output_type": "stream",
     "text": [
      "{'date': '10/2020', 'description': '– Bachelor of Science in Informatik Fokus auf Softwareentwicklung und Datenbanken. Abschlussarbeit über Künstliche Intelligenz. '}\n",
      "{'date': '03/2021', 'description': '– Praktikum bei der Firma Beispiel AG Hier habe ich an mehreren Projekten zur Webentwicklung gearbeitet. Das Praktikum umfasste sowohl Frontend- als auch Backend-Entwicklung. '}\n",
      "{'date': '09/2022', 'description': '– Master of Science in Data Science Studium an der Universität Beispielstadt. Vertiefung in maschinellem Lernen und Datenanalyse. '}\n",
      "{'date': '11/2023', 'description': '– Weiterbildung in Projektmanagement Verbesserung meiner Fähigkeiten in der Teamleitung. Erstellung effektiver Projektpläne und -strategien. '}\n",
      "{'date': 'seit 2019', 'description': '– Freiwilliges Engagement beim Tierschutzverein Aktive Mitwirkung bei der Organisation von Veranstaltungen. Unterstützung von Tierschutzprojekten in der Region.'}\n"
     ]
    }
   ],
   "source": [
    "# example with date at beginning of lines\n",
    "education_section = \"\"\"\n",
    "10/2020 – Bachelor of Science in Informatik\n",
    "Fokus auf Softwareentwicklung und Datenbanken.\n",
    "Abschlussarbeit über Künstliche Intelligenz.\n",
    "\n",
    "03/2021 – Praktikum bei der Firma Beispiel AG\n",
    "Hier habe ich an mehreren Projekten zur Webentwicklung gearbeitet.\n",
    "Das Praktikum umfasste sowohl Frontend- als auch Backend-Entwicklung.\n",
    "\n",
    "09/2022 – Master of Science in Data Science\n",
    "Studium an der Universität Beispielstadt.\n",
    "Vertiefung in maschinellem Lernen und Datenanalyse.\n",
    "\n",
    "11/2023 – Weiterbildung in Projektmanagement\n",
    "Verbesserung meiner Fähigkeiten in der Teamleitung.\n",
    "Erstellung effektiver Projektpläne und -strategien.\n",
    "\n",
    "seit 2019 – Freiwilliges Engagement beim Tierschutzverein\n",
    "Aktive Mitwirkung bei der Organisation von Veranstaltungen.\n",
    "Unterstützung von Tierschutzprojekten in der Region.\n",
    "\"\"\"\n",
    "\n",
    "parsed_education = get_education(education_section)\n",
    "\n",
    "for point in parsed_education:\n",
    "    print(point)\n"
   ]
  },
  {
   "cell_type": "code",
   "execution_count": 14,
   "metadata": {},
   "outputs": [
    {
     "name": "stdout",
     "output_type": "stream",
     "text": [
      "{'date': '10/2020', 'description': 'Bachelor of Science in Informatik – Fokus auf Softwareentwicklung und Datenbanken. Abschlussarbeit über Künstliche Intelligenz.  Praktikum bei der Firma Beispiel AG –'}\n",
      "{'date': '03/2021', 'description': 'Praktikum bei der Firma Beispiel AG – Hier habe ich an mehreren Projekten zur Webentwicklung gearbeitet. Das Praktikum umfasste sowohl Frontend- als auch Backend-Entwicklung.  Master of Science in Data Science –'}\n",
      "{'date': '09/2022', 'description': 'Master of Science in Data Science – Studium an der Universität Beispielstadt. Vertiefung in maschinellem Lernen und Datenanalyse.  Weiterbildung in Projektmanagement –'}\n",
      "{'date': '11/2023', 'description': 'Weiterbildung in Projektmanagement – Verbesserung meiner Fähigkeiten in der Teamleitung. Erstellung effektiver Projektpläne und -strategien.  Freiwilliges Engagement beim Tierschutzverein – bis heute Aktive Mitwirkung bei der Organisation von Veranstaltungen. Unterstützung von Tierschutzprojekten in der Region.'}\n"
     ]
    }
   ],
   "source": [
    "# example with date at end of lines\n",
    "education_section = \"\"\"\n",
    "Bachelor of Science in Informatik – 10/2020\n",
    "Fokus auf Softwareentwicklung und Datenbanken.\n",
    "Abschlussarbeit über Künstliche Intelligenz.\n",
    "\n",
    "Praktikum bei der Firma Beispiel AG – 03/2021\n",
    "Hier habe ich an mehreren Projekten zur Webentwicklung gearbeitet.\n",
    "Das Praktikum umfasste sowohl Frontend- als auch Backend-Entwicklung.\n",
    "\n",
    "Master of Science in Data Science – 09/2022\n",
    "Studium an der Universität Beispielstadt.\n",
    "Vertiefung in maschinellem Lernen und Datenanalyse.\n",
    "\n",
    "Weiterbildung in Projektmanagement – 11/2023\n",
    "Verbesserung meiner Fähigkeiten in der Teamleitung.\n",
    "Erstellung effektiver Projektpläne und -strategien.\n",
    "\n",
    "Freiwilliges Engagement beim Tierschutzverein – bis heute\n",
    "Aktive Mitwirkung bei der Organisation von Veranstaltungen.\n",
    "Unterstützung von Tierschutzprojekten in der Region.\n",
    "\"\"\"\n",
    "\n",
    "parsed_education = get_education(education_section)\n",
    "\n",
    "for point in parsed_education:\n",
    "    print(point)\n"
   ]
  }
 ],
 "metadata": {
  "kernelspec": {
   "display_name": ".venv",
   "language": "python",
   "name": "python3"
  },
  "language_info": {
   "codemirror_mode": {
    "name": "ipython",
    "version": 3
   },
   "file_extension": ".py",
   "mimetype": "text/x-python",
   "name": "python",
   "nbconvert_exporter": "python",
   "pygments_lexer": "ipython3",
   "version": "3.8.0"
  }
 },
 "nbformat": 4,
 "nbformat_minor": 2
}
